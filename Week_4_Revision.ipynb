{
  "nbformat": 4,
  "nbformat_minor": 0,
  "metadata": {
    "colab": {
      "name": "Week 4 Revision.ipynb",
      "version": "0.3.2",
      "provenance": [],
      "collapsed_sections": [],
      "include_colab_link": true
    },
    "kernelspec": {
      "name": "python3",
      "display_name": "Python 3"
    }
  },
  "cells": [
    {
      "cell_type": "markdown",
      "metadata": {
        "id": "view-in-github",
        "colab_type": "text"
      },
      "source": [
        "<a href=\"https://colab.research.google.com/github/nyp-sit/2018S2-ITP112/blob/master/Week_4_Revision.ipynb\" target=\"_parent\"><img src=\"https://colab.research.google.com/assets/colab-badge.svg\" alt=\"Open In Colab\"/></a>"
      ]
    },
    {
      "metadata": {
        "id": "A3uwnVN2euGK",
        "colab_type": "text"
      },
      "cell_type": "markdown",
      "source": [
        "Vivo Solution is a business that sells cell phones.  Your team is designing a program to manage all the cell phones that are in inventory.  Design a class that represents a cell phone.  The data that should be kept as attributes are as follows：\n",
        "\n",
        "\n",
        "*   The name of the phones manufacturer to be assigned to the __manufacturer attribute\n",
        "*   The phone's model number to be assigned to the __model attribute\n",
        "*   The phone's retail price to be assigned to the __price attribute\n",
        "\n",
        "The CellPhone class will have the following methods：\n",
        "\n",
        "\n",
        "*   An initializer method that accepts arguments for the manufacturer, model number and retail price\n",
        "*   The accessor and mutator methods for the 3 attributes\n",
        "\n",
        "Create a main() function that will create an instance of the CellPhone class, and display the data that was entered.\n",
        "\n",
        "Sample output is given as follow:\n",
        "\n",
        "\n",
        "```\n",
        "Enter manufacturer: LG\n",
        "Enter model: G7\n",
        "Enter price: 999\n",
        "Manufacturer: LG, Model: G7, Price: 999\n",
        "```\n",
        "\n",
        "\n",
        "\n"
      ]
    },
    {
      "metadata": {
        "id": "7IZYH58ri6SQ",
        "colab_type": "code",
        "colab": {
          "base_uri": "https://localhost:8080/",
          "height": 85
        },
        "outputId": "34525840-4fb0-4af5-e95a-4202cfca26ad"
      },
      "cell_type": "code",
      "source": [
        "class CellPhone:\n",
        "  # initializer with 3 arguments, and initializes the 3 attributes\n",
        "\n",
        "    \n",
        "  # 3 accessor methods\n",
        "\n",
        "\n",
        "  \n",
        "  # 3 mutator methods\n",
        "\n",
        "    \n",
        "\n",
        "# main function that ask for manufacturer, model and price.  Display the entered value\n",
        "  \n",
        "main()\n",
        "    \n",
        "    \n",
        "    "
      ],
      "execution_count": 2,
      "outputs": [
        {
          "output_type": "stream",
          "text": [
            "Enter manufacturer: LG\n",
            "Enter model: G7\n",
            "Enter price: 999\n",
            "Manufacturer: LG, Model: G7, Price: 999\n"
          ],
          "name": "stdout"
        }
      ]
    }
  ]
}