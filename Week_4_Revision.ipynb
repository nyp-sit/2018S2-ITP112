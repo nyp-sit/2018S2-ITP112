{
  "nbformat": 4,
  "nbformat_minor": 0,
  "metadata": {
    "colab": {
      "name": "Week 4 Revision.ipynb",
      "version": "0.3.2",
      "provenance": [],
      "collapsed_sections": [],
      "include_colab_link": true
    },
    "kernelspec": {
      "name": "python3",
      "display_name": "Python 3"
    }
  },
  "cells": [
    {
      "cell_type": "markdown",
      "metadata": {
        "id": "view-in-github",
        "colab_type": "text"
      },
      "source": [
        "<a href=\"https://colab.research.google.com/github/nyp-sit/2018S2-ITP112/blob/master/Week_4_Revision.ipynb\" target=\"_parent\"><img src=\"https://colab.research.google.com/assets/colab-badge.svg\" alt=\"Open In Colab\"/></a>"
      ]
    },
    {
      "metadata": {
        "id": "A3uwnVN2euGK",
        "colab_type": "text"
      },
      "cell_type": "markdown",
      "source": [
        "Vivo Solution is a business that sells cell phones.  Your team is designing a program to manage all the cell phones that are in inventory.  Design a class that represents a cell phone.  The data that should be kept as attributes are as follows：\n",
        "\n",
        "\n",
        "*   The name of the phones manufacturer to be assigned to the __manufacturer attribute\n",
        "*   The phone's model number to be assigned to the __model attribute\n",
        "*   The phone's retail price to be assigned to the __price attribute\n",
        "\n",
        "The CellPhone class will have the following methods：\n",
        "\n",
        "\n",
        "*   An initializer method that accepts arguments for the manufacturer, model number and retail price\n",
        "*   The accessor and mutator methods for the 3 attributes\n",
        "\n",
        "Create a main() function that will create an instance of the CellPhone class, and display the data that was entered.\n",
        "\n",
        "Sample output is given as follow:\n",
        "\n",
        "\n",
        "```\n",
        "Enter manufacturer: LG\n",
        "Enter model: G7\n",
        "Enter price: 999\n",
        "Manufacturer: LG, Model: G7, Price: 999\n",
        "```\n",
        "\n",
        "\n",
        "\n"
      ]
    },
    {
      "metadata": {
        "id": "7IZYH58ri6SQ",
        "colab_type": "code",
        "outputId": "34525840-4fb0-4af5-e95a-4202cfca26ad",
        "colab": {
          "base_uri": "https://localhost:8080/",
          "height": 85
        }
      },
      "cell_type": "code",
      "source": [
        "class CellPhone:\n",
        "  # initializer with 3 arguments, and initializes the 3 attributes\n",
        "\n",
        "    \n",
        "  # 3 accessor methods\n",
        "\n",
        "  \n",
        "  # 3 mutator methods\n",
        "\n",
        "    \n",
        "# Test program that creates a phone and display the data that was entered    \n",
        "def main():\n",
        "\n",
        "  \n",
        "main()\n",
        "    \n",
        "    \n",
        "    "
      ],
      "execution_count": 0,
      "outputs": [
        {
          "output_type": "stream",
          "text": [
            "Enter manufacturer: LG\n",
            "Enter model: G7\n",
            "Enter price: 999\n",
            "Manufacturer: LG, Model: G7, Price: 999\n"
          ],
          "name": "stdout"
        }
      ]
    },
    {
      "metadata": {
        "id": "SI8vkGndtVIf",
        "colab_type": "text"
      },
      "cell_type": "markdown",
      "source": [
        "Create a program that keeps contact information, such as names, phone numbers and email address.  You could start by writing a Contact class, with the following data attributes:\n",
        "\n",
        "\n",
        "*   __name attribute that stores a person's name\n",
        "*   __phone attribute that stores a person's phone number\n",
        "*   __email attribute that stores a person's email address\n",
        "\n",
        "The class has the following methods\n",
        "\n",
        "*   An initialiser method that acceps 3 arguments for the name, phone and email\n",
        "*   The accessor and mutator methods for the 3 attributes\n",
        "*   A ```__str__``` method that returns the object's state as a string "
      ]
    },
    {
      "metadata": {
        "id": "iO0-222_vKNq",
        "colab_type": "code",
        "colab": {
          "base_uri": "https://localhost:8080/",
          "height": 34
        },
        "outputId": "b350249d-0609-4a2b-b0da-bd870b328583"
      },
      "cell_type": "code",
      "source": [
        "class Contact:\n",
        "  #  The __init__ method with 3 arguments that initialises the 3 attributes\n",
        "\n",
        "    \n",
        "  # 3 accessor methods\n",
        "\n",
        "  \n",
        "  # 3 mutator methods\n",
        "\n",
        "    \n",
        "  # __str__ method that returns the object's state as a string\n",
        "  # for eg.  'Name: John, Phone: 999, Email: john@email.com'\n",
        " \n",
        "  \n",
        "  \n",
        "# Test program \n",
        "contact = Contact('John', 999, 'john@email.com')\n",
        "print(contact)\n",
        "  "
      ],
      "execution_count": 1,
      "outputs": [
        {
          "output_type": "stream",
          "text": [
            "Name: John, Phone: 999, Email: john@email.com\n"
          ],
          "name": "stdout"
        }
      ]
    },
    {
      "metadata": {
        "id": "nH-YXzrVzFCm",
        "colab_type": "text"
      },
      "cell_type": "markdown",
      "source": [
        "Extend the program to keep Contact objects in a dictionary.  Each time the program creates a Contact object, the object would be stored as a value in the dictionary, using the person's email as the key.  \n",
        "\n",
        "Sample ouput is given below\n",
        "\n",
        "```\n",
        "Enter name to add: john\n",
        "Enter phone to add: 999\n",
        "Enter email to add: john@email.com\n",
        ">> Contact with email john@email.com added\n",
        "Enter email of contact to be retrieved: john@email.com\n",
        "Name: john, Phone: 999, Email: john@email.com\n",
        "Enter email to delete: john@email.com\n",
        ">> Contact with email john@email.com deleted\n",
        "```\n",
        "\n"
      ]
    },
    {
      "metadata": {
        "id": "zwF4VpVwz5NX",
        "colab_type": "code",
        "colab": {
          "base_uri": "https://localhost:8080/",
          "height": 153
        },
        "outputId": "bec45ee2-3c20-4285-f9a0-73df274c01f0"
      },
      "cell_type": "code",
      "source": [
        "# Dictonary to store contacts\n",
        "contact_list = {}\n",
        "\n",
        "def main():\n",
        "  # function to add contact\n",
        "  # ask for name, phone and email, and add to the dictionary\n",
        "  # display a message to indicate contact has been added\n",
        "  def add(contacts):\n",
        "\n",
        "\n",
        "  # function to delete contact\n",
        "  # ask for email, and delete contact from dictionary\n",
        "  # display a message to indicate contact has been deleted\n",
        "  def delete(contacts):\n",
        "\n",
        "\n",
        "\n",
        "  # function to get contact\n",
        "  # ask for email, look out for contact and display contact\n",
        "  def get(contacts):\n",
        "\n",
        "    \n",
        "  # Test program\n",
        "  add(contact_list)\n",
        "  get(contact_list)\n",
        "  delete(contact_list)\n",
        "\n",
        "main()\n"
      ],
      "execution_count": 7,
      "outputs": [
        {
          "output_type": "stream",
          "text": [
            "Enter name to add: john\n",
            "Enter phone to add: 999\n",
            "Enter email to add: john@email.com\n",
            ">> Contact with email john@email.com added\n",
            "Enter email of contact to be retrieved: john@email.com\n",
            "Name: john, Phone: 999, Email: john@email.com\n",
            "Enter email to delete: john@email.com\n",
            ">> Contact with email john@email.com deleted\n"
          ],
          "name": "stdout"
        }
      ]
    },
    {
      "metadata": {
        "id": "solqbtAN1G1o",
        "colab_type": "code",
        "colab": {}
      },
      "cell_type": "code",
      "source": [
        "3"
      ],
      "execution_count": 0,
      "outputs": []
    }
  ]
}